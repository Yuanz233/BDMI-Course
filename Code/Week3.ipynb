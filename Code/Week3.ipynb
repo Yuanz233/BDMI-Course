{
 "cells": [
  {
   "cell_type": "code",
   "execution_count": 7,
   "metadata": {},
   "outputs": [
    {
     "name": "stdout",
     "output_type": "stream",
     "text": [
      "BDMI\n"
     ]
    }
   ],
   "source": [
    "import os\n",
    "current_file = os.path.realpath('Week3.ipynb')\n",
    "current_dir = os.path.dirname(current_file)\n",
    "test_dir = os.path.join(current_dir,'jupytertest')\n",
    "file_path = os.path.join(test_dir,'test.txt')\n",
    "with open(file_path,'r') as simple_file:\n",
    "    for line in simple_file:\n",
    "        print(line.strip())"
   ]
  },
  {
   "cell_type": "code",
   "execution_count": 11,
   "metadata": {},
   "outputs": [],
   "source": [
    "new_file_path = os.path.join(test_dir,'myclassmates.txt')\n",
    "with open(new_file_path,'w',encoding='utf-8') as my_file:\n",
    "    my_file.write('A XX系\\n')\n",
    "with open(new_file_path,'a',encoding='utf-8') as my_file:\n",
    "    my_file.write('B cc系\\n')"
   ]
  },
  {
   "cell_type": "code",
   "execution_count": 13,
   "metadata": {},
   "outputs": [],
   "source": [
    "import random\n",
    "sort_file_path = os.path.join(test_dir,'data.txt')\n",
    "with open (sort_file_path,'a+') as sort_file:\n",
    "    for i in range(20):\n",
    "        x = random.randint(0,100)\n",
    "        sort_file.write(str(x)+' ')"
   ]
  },
  {
   "cell_type": "code",
   "execution_count": 14,
   "metadata": {},
   "outputs": [],
   "source": [
    "# tkinter GUI\n",
    "from tkinter import *\n",
    "\n",
    "def click():\n",
    "    name = textbox1.get()\n",
    "    message = str(\"Hello\\n\"+name)\n",
    "    textbox2[\"bg\"] = \"yellow\"\n",
    "    textbox2[\"fg\"] = \"red\"\n",
    "    textbox2[\"text\"] = message\n",
    "\n",
    "window = Tk()\n",
    "window.geometry(\"500x200\")\n",
    "label1 = Label(text=\"number:\")\n",
    "label1.place(x=30, y=20)\n",
    "textbox1 = Entry(text=\"\")\n",
    "textbox1.place(x=150, y=20, width=200, height=25)\n",
    "textbox1['justify'] = 'center'\n",
    "textbox1.focus()\n",
    "\n",
    "button1 = Button(text='result', command=click)\n",
    "button1.place(x=30, y=50, width=120, height=25)\n",
    "\n",
    "textbox2 = Message(text=\"\")\n",
    "textbox2.place(x=150, y=50, width=200, height=50)\n",
    "textbox2[\"bg\"] = \"white\"\n",
    "textbox2[\"fg\"] = \"black\"\n",
    "window.mainloop()"
   ]
  },
  {
   "cell_type": "code",
   "execution_count": 17,
   "metadata": {},
   "outputs": [
    {
     "name": "stdout",
     "output_type": "stream",
     "text": [
      "[2, 3, 4, 5, 7, 25, 39, 40, 56, 98, 453]\n"
     ]
    }
   ],
   "source": [
    "#归并排序merge\n",
    "def merge(L,R):\n",
    "    i = 0\n",
    "    j = 0\n",
    "    result = []\n",
    "    while i<len(L) and j<len(R):\n",
    "        if L[i] < R[j]:\n",
    "            result.append(L[i])\n",
    "            i += 1\n",
    "        else:\n",
    "            result.append(R[j])\n",
    "            j += 1\n",
    "    while i<len(L):\n",
    "        result.append(L[i])\n",
    "        i += 1\n",
    "    while j<len(R):\n",
    "        result.append(R[j])\n",
    "        j += 1\n",
    "    return result\n",
    "\n",
    "def mergesort(List):\n",
    "    n = len(List)\n",
    "    if n<=1:\n",
    "        return (List)\n",
    "    mi = int(n/2)\n",
    "    L = mergesort(List[0:mi])\n",
    "    R = mergesort(List[mi:n])\n",
    "    return merge(L,R)\n",
    "\n",
    "A=[2,5,7,3,56,4,98,39,25,40,453]\n",
    "\n",
    "B=mergesort(A)\n",
    "print(B)"
   ]
  },
  {
   "cell_type": "code",
   "execution_count": null,
   "metadata": {},
   "outputs": [],
   "source": []
  }
 ],
 "metadata": {
  "kernelspec": {
   "display_name": "Python 3",
   "language": "python",
   "name": "python3"
  },
  "language_info": {
   "codemirror_mode": {
    "name": "ipython",
    "version": 3
   },
   "file_extension": ".py",
   "mimetype": "text/x-python",
   "name": "python",
   "nbconvert_exporter": "python",
   "pygments_lexer": "ipython3",
   "version": "3.8.1"
  }
 },
 "nbformat": 4,
 "nbformat_minor": 4
}
