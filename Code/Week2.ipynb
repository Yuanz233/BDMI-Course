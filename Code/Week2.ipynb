{
 "cells": [
  {
   "cell_type": "code",
   "execution_count": 2,
   "metadata": {
    "scrolled": false
   },
   "outputs": [
    {
     "data": {
      "text/plain": [
       "'123456'"
      ]
     },
     "execution_count": 2,
     "metadata": {},
     "output_type": "execute_result"
    }
   ],
   "source": [
    "dict = {\"张天野\":\"123456\",\"李思远\":\"321654\"}\n",
    "dict[\"张天野\"]"
   ]
  },
  {
   "cell_type": "code",
   "execution_count": 4,
   "metadata": {
    "scrolled": true
   },
   "outputs": [
    {
     "data": {
      "text/plain": [
       "[1, 4, 9, 16, 25]"
      ]
     },
     "execution_count": 4,
     "metadata": {},
     "output_type": "execute_result"
    }
   ],
   "source": [
    "list=[1,2,3,4,5]\n",
    "squared_list=[]\n",
    "for i in range(len(list)):\n",
    "    squared_list.append(list[i]**2)\n",
    "squared_list"
   ]
  },
  {
   "cell_type": "code",
   "execution_count": 35,
   "metadata": {},
   "outputs": [
    {
     "name": "stdout",
     "output_type": "stream",
     "text": [
      "biue\n",
      "8\n",
      "red\n"
     ]
    }
   ],
   "source": [
    "class Cat:\n",
    "    def __init__(self,color,jumpnum):\n",
    "        self.color = color\n",
    "        self.jumpnum = jumpnum\n",
    "    def jump (self,jump_s):\n",
    "        self.jumpnum += jump_s\n",
    "    def defcolor (self,color_s):\n",
    "        self.color = color_s\n",
    "\n",
    "mycat=Cat(\"biue\",1)\n",
    "mycat.jump(2)\n",
    "mycat.jump(5)\n",
    "print(mycat.color)\n",
    "mycat.defcolor(\"red\")\n",
    "print (mycat.jumpnum)\n",
    "print(mycat.color)"
   ]
  },
  {
   "cell_type": "code",
   "execution_count": 34,
   "metadata": {
    "scrolled": true
   },
   "outputs": [
    {
     "name": "stdout",
     "output_type": "stream",
     "text": [
      "(3.0, -13.0)\n"
     ]
    }
   ],
   "source": [
    "import math\n",
    "def solve_equ(b,c):\n",
    "    val1=b/2.0\n",
    "    val2=val1**2\n",
    "    val3=val2+c\n",
    "    val4=math.sqrt(val3)\n",
    "    root1=val4-val1\n",
    "    root2=-val4-val1\n",
    "    return root1,root2\n",
    "print(solve_equ(10,39))"
   ]
  },
  {
   "cell_type": "code",
   "execution_count": 41,
   "metadata": {},
   "outputs": [
    {
     "name": "stdout",
     "output_type": "stream",
     "text": [
      "The PI is about 3.139812\n"
     ]
    }
   ],
   "source": [
    "import random\n",
    "def pi():\n",
    "    n=0\n",
    "    for i in range(1,1000001):\n",
    "        a=random.random()\n",
    "        b=random.random()\n",
    "        r=a*a+b*b\n",
    "        if r<1:\n",
    "            n+=1\n",
    "    p=4*n/1000000\n",
    "    return p\n",
    "\n",
    "if __name__==\"__main__\":\n",
    "    n=pi()\n",
    "    print('The PI is about',n)"
   ]
  },
  {
   "cell_type": "code",
   "execution_count": 2,
   "metadata": {},
   "outputs": [
    {
     "data": {
      "image/png": "[encoded data removed]",
      "text/plain": [
       "<Figure size 432x288 with 2 Axes>"
      ]
     },
     "metadata": {
      "needs_background": "light"
     },
     "output_type": "display_data"
    }
   ],
   "source": [
    "import numpy as np\n",
    "import matplotlib.pyplot as plt\n",
    "x = np.arange(0,3*np.pi,0.1)\n",
    "y_sin=np.sin(x)\n",
    "y_cos=np.cos(x)\n",
    "plt.subplot(2,1,1)\n",
    "plt.plot(x,y_sin)\n",
    "plt.title('sine')\n",
    "plt.subplot(2,1,2)\n",
    "plt.plot(x,y_cos)\n",
    "plt.title('cosine')\n",
    "plt.show()"
   ]
  },
  {
   "cell_type": "code",
   "execution_count": null,
   "metadata": {},
   "outputs": [],
   "source": []
  }
 ],
 "metadata": {
  "kernelspec": {
   "display_name": "Python 3",
   "language": "python",
   "name": "python3"
  },
  "language_info": {
   "codemirror_mode": {
    "name": "ipython",
    "version": 3
   },
   "file_extension": ".py",
   "mimetype": "text/x-python",
   "name": "python",
   "nbconvert_exporter": "python",
   "pygments_lexer": "ipython3",
   "version": "3.8.1"
  }
 },
 "nbformat": 4,
 "nbformat_minor": 4
}
