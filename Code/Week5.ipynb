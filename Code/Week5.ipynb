{
 "cells": [
  {
   "cell_type": "code",
   "execution_count": 6,
   "metadata": {},
   "outputs": [
    {
     "name": "stdout",
     "output_type": "stream",
     "text": [
      "[(1, 'lisiyuan1', '男', 20, 1.0), (2, 'lisiyuan2', '男', 20, 1.0)]\n"
     ]
    }
   ],
   "source": [
    "# SQLite\n",
    "import sqlite3\n",
    "Db = sqlite3.connect(\"university.db\")\n",
    "cursor = Db.cursor()\n",
    "cursor.execute(\"\"\"CREATE TABLE IF NOT EXISTS student(\n",
    "id integer PRIMARY KEY,\n",
    "name text NOT NULL,\n",
    "gender text NOT NULL,\n",
    "age integer);\"\"\")\n",
    "cursor.execute(\"\"\"INSERT INTO student(id,name,gender,age) VALUES(1,\"lisiyuan1\",\"男\",20)\"\"\")\n",
    "cursor.execute(\"\"\"INSERT INTO student(id,name,gender,age) VALUES(2,\"lisiyuan2\",\"男\",20)\"\"\")\n",
    "cursor.execute(\"\"\"INSERT INTO student(id,name,gender,age) VALUES(3,\"lisiyuan3\",\"男\",20)\"\"\")\n",
    "\n",
    "cursor.execute(\"\"\"CREATE TABLE IF NOT EXISTS class(\n",
    "cid integer PRIMARY KEY,\n",
    "cname text NOT NULL,\n",
    "teacher text NOT NULL);\"\"\")\n",
    "cursor.execute(\"\"\"INSERT INTO class(cid,cname,teacher) VALUES(4,\"python\",\"LSY\")\"\"\")\n",
    "cursor.execute(\"\"\"INSERT INTO class(cid,cname,teacher) VALUES(5,\"math\",\"LSY2\")\"\"\")\n",
    "cursor.execute(\"\"\"INSERT INTO class(cid,cname,teacher) VALUES(6,\"PE\",\"LSY3\")\"\"\")\n",
    "\n",
    "cursor.execute(\"\"\"CREATE TABLE IF NOT EXISTS enrolled(\n",
    "sid integer PRIMARY KEY,\n",
    "cid integer,\n",
    "grade real);\"\"\")\n",
    "cursor.execute(\"\"\"INSERT INTO enrolled(sid,cid,grade) VALUES(1,4,1.0)\"\"\")\n",
    "cursor.execute(\"\"\"INSERT INTO enrolled(sid,cid,grade) VALUES(2,5,1.0)\"\"\")\n",
    "\n",
    "cursor.execute(\"\"\"SELECT student.id, student.name, student.gender, student.age,enrolled.grade\n",
    "FROM student JOIN enrolled on student.id = enrolled.sid\"\"\")\n",
    "print(cursor.fetchall())\n",
    "\n",
    "Db.close()\n",
    "\n"
   ]
  },
  {
   "cell_type": "code",
   "execution_count": null,
   "metadata": {},
   "outputs": [],
   "source": []
  }
 ],
 "metadata": {
  "kernelspec": {
   "display_name": "Python 3",
   "language": "python",
   "name": "python3"
  },
  "language_info": {
   "codemirror_mode": {
    "name": "ipython",
    "version": 3
   },
   "file_extension": ".py",
   "mimetype": "text/x-python",
   "name": "python",
   "nbconvert_exporter": "python",
   "pygments_lexer": "ipython3",
   "version": "3.8.1"
  }
 },
 "nbformat": 4,
 "nbformat_minor": 4
}
